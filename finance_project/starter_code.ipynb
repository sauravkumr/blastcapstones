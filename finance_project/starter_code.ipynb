{
  "cells": [
    {
      "cell_type": "markdown",
      "id": "83a41d81",
      "metadata": {
        "id": "83a41d81"
      },
      "source": [
        "# Stock Prediction Capstone Project\n",
        "\n",
        "In this project, you will work on predicting stock prices using Long Short-Term Memory (LSTM) networks implemented in PyTorch. This project will guide you through the steps of preparing the data, building the LSTM model, training the model, and making predictions.\n",
        "\n",
        "## Note/Disclaimer:\n",
        "Before starting this project, it is highly recommended to read up on LSTM networks and understand how they work on a high level and how they're generally implemented with PyTorch. This will help you grasp the concepts better as you work through the project. Here are some resources to get you started:\n",
        "- [Video to Help Understand LSTMs](https://www.youtube.com/watch?v=YCzL96nL7j0)\n",
        "- [Resource for Implementing LSTMs for Time Series Prediction with PyTorch](https://machinelearningmastery.com/lstm-for-time-series-prediction-in-pytorch/)\n",
        "- [Resource for Implementing LSTMs with PyTorch](https://wandb.ai/sauravmaheshkar/LSTM-PyTorch/reports/Using-LSTM-in-PyTorch-A-Tutorial-With-Examples--VmlldzoxMDA2NTA5)\n",
        "- [PyTorch Documentation for Implementing LSTMs](https://pytorch.org/tutorials/beginner/nlp/sequence_models_tutorial.html)\n",
        "\n",
        "\n",
        "## Project Steps Overview:\n",
        "1. **Data Preprocessing:** Load and preprocess the stock price data.\n",
        "2. **Model Building:** Define the LSTM model architecture using PyTorch.\n",
        "3. **Model Training:** Train the LSTM model with the prepared data.\n",
        "4. **Prediction:** Use the trained model to make stock price predictions.\n",
        "\n",
        "Let's get started! Provided below is some starter code to get you set up with the data and packages/imports.\n"
      ]
    },
    {
      "cell_type": "markdown",
      "id": "1dbe9f8c",
      "metadata": {
        "id": "1dbe9f8c"
      },
      "source": [
        "\n",
        "1. **Importing Libraries**: First, we import the necessary libraries for data manipulation, visualization, scaling, and model building.\n",
        "   - `numpy` and `pandas` are used for data manipulation.\n",
        "   - `matplotlib.pyplot` is used for data visualization.\n",
        "   - `MinMaxScaler` from `sklearn.preprocessing` is used for scaling the data.\n",
        "   - `torch` and `torch.nn` are used for building and training the LSTM model.\n",
        "   - `yfinance` is used to download stock data.\n",
        "   - `datetime` is used for handling date and time.\n"
      ]
    },
    {
      "cell_type": "code",
      "execution_count": null,
      "id": "2ae35176",
      "metadata": {
        "id": "2ae35176"
      },
      "outputs": [],
      "source": [
        "import numpy as np\n",
        "import pandas as pd\n",
        "import matplotlib.pyplot as plt\n",
        "from sklearn.preprocessing import MinMaxScaler\n",
        "import torch\n",
        "import torch.nn as nn\n",
        "import yfinance as yf\n",
        "from datetime import datetime"
      ]
    },
    {
      "cell_type": "markdown",
      "id": "01e5a771",
      "metadata": {
        "id": "01e5a771"
      },
      "source": [
        "\n",
        "2. **Downloading Stock Data**: We define a list of stock symbols and specify the date range (last one year). We then download the stock data for each symbol using the `yfinance` library and concatenate the data into a single DataFrame.\n"
      ]
    },
    {
      "cell_type": "code",
      "execution_count": null,
      "id": "d590dd7a",
      "metadata": {
        "id": "d590dd7a"
      },
      "outputs": [],
      "source": [
        "# Download stock data\n",
        "stocks_list = ['AAPL', 'GOOG', 'MSFT', 'AMZN']\n",
        "end = datetime.now()\n",
        "start = datetime(end.year - 1, end.month, end.day)\n",
        "\n",
        "data_frames = []\n",
        "for stock in stocks_list:\n",
        "    df = yf.download(stock, start, end)\n",
        "    df['Symbol'] = stock\n",
        "    data_frames.append(df)\n",
        "\n",
        "df = pd.concat(data_frames)\n",
        "df = df.sort_index()"
      ]
    },
    {
      "cell_type": "markdown",
      "id": "4449e7b5",
      "metadata": {
        "id": "4449e7b5"
      },
      "source": [
        "\n",
        "3. **Scaling Data**: We use `MinMaxScaler` to scale the 'Close' prices to a range between -1 and 1. This step is crucial for training the LSTM model as it helps in faster convergence.\n"
      ]
    },
    {
      "cell_type": "code",
      "execution_count": null,
      "id": "9c71e4b3",
      "metadata": {
        "id": "9c71e4b3"
      },
      "outputs": [],
      "source": [
        "# Scaling both features and target\n",
        "scaler = MinMaxScaler(feature_range=(-1, 1))\n",
        "df['Close'] = scaler.fit_transform(df['Close'].values.reshape(-1, 1))"
      ]
    },
    {
      "cell_type": "markdown",
      "id": "2b91d210",
      "metadata": {
        "id": "2b91d210"
      },
      "source": [
        "\n",
        "4. **Preparing Data for LSTM**:\n",
        "\n",
        "We will now define the sequence length and create sequences of the scaled 'Close' prices. We need to prepare the data in a way that is suitable for the LSTM model to process. This involves creating sequences of data that the LSTM can learn from. Here's how we do it: The `create_sequences` function generates input-output pairs where each input sequence of length `seq_length` corresponds to a single output value (the next value in the sequence). This preparation ensures that the LSTM model has the necessary historical data to learn from and predict future stock prices.\n",
        "\n",
        "We chose a sequence length of **50** so that the model has enough historical context to read patterns and the sequence length is neither too long or too short. Play around with this hyperparameter and compare the results!"
      ]
    },
    {
      "cell_type": "code",
      "execution_count": null,
      "id": "3c2a3f32",
      "metadata": {
        "id": "3c2a3f32"
      },
      "outputs": [],
      "source": [
        "# Prepare data for LSTM\n",
        "sequence_length = 50  # Length of the sequence for LSTM\n",
        "data = df['Close'].values\n",
        "\n",
        "def create_sequences(data, seq_length):\n",
        "    xs = []\n",
        "    ys = []\n",
        "    for i in range(len(data) - seq_length):\n",
        "        x = data[i:i+seq_length]\n",
        "        y = data[i+seq_length]\n",
        "        xs.append(x)\n",
        "        ys.append(y)\n",
        "    return np.array(xs), np.array(ys)\n",
        "\n",
        "x_data, y_data = create_sequences(data, sequence_length)"
      ]
    },
    {
      "cell_type": "markdown",
      "id": "a450de20",
      "metadata": {
        "id": "a450de20"
      },
      "source": [
        "\n",
        "# Data Preprocessing\n",
        "In this step, you need to split the data into training and test sets and convert them to PyTorch tensors. Follow these steps:\n",
        "1. **Split the data into training and test sets.** Use a 70-30 split for training and test data (since x_data and y_data are NumPy arrays, you can do this manually through array slicing).\n",
        "2. **Expand the dimensions of the data.** This step ensures that the data has the right shape for the LSTM model. For example, you can do this for your x_train set by doing: x_train = np.expand_dims(x_train, axis=-1).\n",
        "3. **Convert the data to PyTorch tensors.** Use `torch.from_numpy` to convert the NumPy arrays to PyTorch tensors (also be sure to call the `float()` function on the tensors). Hint: if needed, for the y_train and y_test, call `view(-1,1)` on the tensors to properly reshape them.\n",
        "    "
      ]
    },
    {
      "cell_type": "code",
      "execution_count": null,
      "id": "5b5acb9b",
      "metadata": {
        "id": "5b5acb9b"
      },
      "outputs": [],
      "source": []
    },
    {
      "cell_type": "markdown",
      "id": "44363493",
      "metadata": {
        "id": "44363493"
      },
      "source": [
        "\n",
        "# Model Building\n",
        "Define the LSTM model architecture using PyTorch:\n",
        "1. **Import the necessary PyTorch libraries.** Import `torch`, `torch.nn`, and other relevant modules.\n",
        "2. **Define the LSTM model class.** Create a class that inherits from `nn.Module` and define the LSTM layers and the forward pass.\n",
        "3. **Initialize your hyperparameters (ex. input_dim, hidden_dim, num_layers, output_dim, num_epochs, learning rate, etc.), initialize the model, and define the loss function and the optimizer.** Use `nn.MSELoss` for the loss function and `torch.optim.Adam` or any other optimizer of your choice.\n",
        "    "
      ]
    },
    {
      "cell_type": "code",
      "execution_count": null,
      "id": "7825c3d6",
      "metadata": {
        "id": "7825c3d6"
      },
      "outputs": [],
      "source": []
    },
    {
      "cell_type": "markdown",
      "id": "4275b448",
      "metadata": {
        "id": "4275b448"
      },
      "source": [
        "\n",
        "# Model Training\n",
        "Train the LSTM model with the prepared data:\n",
        "1. **Implement the training loop.** Iterate over the training data, perform forward and backward passes, and update the model weights.\n",
        "2. **Use a loss function to track training performance.**\n",
        "    "
      ]
    },
    {
      "cell_type": "code",
      "execution_count": null,
      "id": "b29546e5",
      "metadata": {
        "id": "b29546e5"
      },
      "outputs": [],
      "source": []
    },
    {
      "cell_type": "markdown",
      "id": "39bb54e9",
      "metadata": {
        "id": "39bb54e9"
      },
      "source": [
        "\n",
        "# Prediction\n",
        "Use the trained model to make stock price predictions:\n",
        "1. **Implement the prediction function.** Use the trained model to generate predictions on the test data.\n",
        "2. **Evaluate the model's performance on the test data.** Calculate metrics like MSE or MAE to assess the model's performance (if you're using PyTorch's `nn.MSELoss` function, you can use the `item()` function to get the MSE).\n",
        "3. **Visualize the predicted vs actual stock prices.** Plot the predicted and actual prices to visually inspect the model's performance.\n",
        "    "
      ]
    },
    {
      "cell_type": "code",
      "execution_count": null,
      "id": "1a2d8d65",
      "metadata": {
        "id": "1a2d8d65"
      },
      "outputs": [],
      "source": []
    }
  ],
  "metadata": {
    "accelerator": "GPU",
    "colab": {
      "gpuType": "T4",
      "provenance": []
    },
    "kernelspec": {
      "display_name": "Python 3",
      "name": "python3"
    },
    "language_info": {
      "name": "python"
    }
  },
  "nbformat": 4,
  "nbformat_minor": 5
}